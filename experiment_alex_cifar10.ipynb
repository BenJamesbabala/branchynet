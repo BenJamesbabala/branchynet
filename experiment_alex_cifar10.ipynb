{
 "cells": [
  {
   "cell_type": "code",
   "execution_count": null,
   "metadata": {
    "ExecuteTime": {
     "end_time": "2016-08-30T17:59:36.847663",
     "start_time": "2016-08-30T17:59:36.371472"
    },
    "collapsed": true
   },
   "outputs": [],
   "source": [
    "# %load_ext autoreload\n",
    "# %autoreload 2\n",
    "# %matplotlib inline"
   ]
  },
  {
   "cell_type": "code",
   "execution_count": null,
   "metadata": {
    "ExecuteTime": {
     "end_time": "2016-08-30T17:59:37.224813",
     "start_time": "2016-08-30T17:59:36.851604"
    },
    "collapsed": true
   },
   "outputs": [],
   "source": [
    "from branchynet.net import BranchyNet\n",
    "from branchynet.links import *\n",
    "import chainer.functions as F\n",
    "import chainer.links as L\n",
    "from branchynet import utils, visualize\n",
    "from chainer import cuda"
   ]
  },
  {
   "cell_type": "markdown",
   "metadata": {},
   "source": [
    "Define Network"
   ]
  },
  {
   "cell_type": "code",
   "execution_count": null,
   "metadata": {
    "ExecuteTime": {
     "end_time": "2016-09-01T10:38:51.206772",
     "start_time": "2016-09-01T10:38:50.827907"
    },
    "collapsed": false
   },
   "outputs": [],
   "source": [
    "from networks import alex_cifar10\n",
    "\n",
    "branchyNet = alex_cifar10.get_network()\n",
    "branchyNet.to_gpu()\n",
    "branchyNet.training()"
   ]
  },
  {
   "cell_type": "markdown",
   "metadata": {},
   "source": [
    "Import Data"
   ]
  },
  {
   "cell_type": "code",
   "execution_count": null,
   "metadata": {
    "ExecuteTime": {
     "end_time": "2016-09-01T10:38:53.317517",
     "start_time": "2016-09-01T10:38:52.619292"
    },
    "collapsed": true
   },
   "outputs": [],
   "source": [
    "from datasets import pcifar10\n",
    "\n",
    "x_train,y_train,x_test,y_test = pcifar10.get_data()"
   ]
  },
  {
   "cell_type": "markdown",
   "metadata": {},
   "source": [
    "Settings"
   ]
  },
  {
   "cell_type": "code",
   "execution_count": null,
   "metadata": {
    "ExecuteTime": {
     "end_time": "2016-08-30T17:04:36.762787",
     "start_time": "2016-08-30T17:04:36.743275"
    },
    "collapsed": false
   },
   "outputs": [],
   "source": [
    "TRAIN_BATCHSIZE = 512\n",
    "TEST_BATCHSIZE = 1\n",
    "TRAIN_NUM_EPOCHS = 50"
   ]
  },
  {
   "cell_type": "markdown",
   "metadata": {},
   "source": [
    "Train Main Network"
   ]
  },
  {
   "cell_type": "code",
   "execution_count": null,
   "metadata": {
    "ExecuteTime": {
     "end_time": "2016-08-30T17:06:01.258431",
     "start_time": "2016-08-30T17:04:36.830718"
    },
    "collapsed": false
   },
   "outputs": [],
   "source": [
    "main_loss, main_acc, main_time = utils.train(branchyNet, x_train, y_train, main=True, batchsize=TRAIN_BATCHSIZE,\n",
    "                                             num_epoch=TRAIN_NUM_EPOCHS)"
   ]
  },
  {
   "cell_type": "markdown",
   "metadata": {},
   "source": [
    "Train BranchyNet"
   ]
  },
  {
   "cell_type": "code",
   "execution_count": null,
   "metadata": {
    "ExecuteTime": {
     "end_time": "2016-08-30T17:11:06.345265",
     "start_time": "2016-08-30T17:06:01.268848"
    },
    "collapsed": false,
    "scrolled": false
   },
   "outputs": [],
   "source": [
    "TRAIN_NUM_EPOCHS = 100\n",
    "branch_loss, branch_acc, branch_time = utils.train(branchyNet, x_train, y_train, batchsize=TRAIN_BATCHSIZE,\n",
    "                                             num_epoch=TRAIN_NUM_EPOCHS)\n",
    "\n",
    "#set network to inference mode\n",
    "branchyNet.testing()"
   ]
  },
  {
   "cell_type": "markdown",
   "metadata": {},
   "source": [
    "Visualizing Network Training"
   ]
  },
  {
   "cell_type": "code",
   "execution_count": null,
   "metadata": {
    "ExecuteTime": {
     "end_time": "2016-08-30T17:11:06.835335",
     "start_time": "2016-08-30T17:11:06.348432"
    },
    "collapsed": false
   },
   "outputs": [],
   "source": [
    "visualize.plot_layers(main_loss, xlabel='Epochs', ylabel='Training Loss')\n",
    "visualize.plot_layers(main_acc, xlabel='Epochs', ylabel='Training Accuracy')"
   ]
  },
  {
   "cell_type": "code",
   "execution_count": null,
   "metadata": {
    "ExecuteTime": {
     "end_time": "2016-08-30T17:11:07.341112",
     "start_time": "2016-08-30T17:11:06.837397"
    },
    "collapsed": false
   },
   "outputs": [],
   "source": [
    "visualize.plot_layers(zip(*branch_loss), xlabel='Epochs', ylabel='Training Loss')\n",
    "visualize.plot_layers(zip(*branch_acc), xlabel='Epochs', ylabel='Training Accuracy')"
   ]
  },
  {
   "cell_type": "markdown",
   "metadata": {},
   "source": [
    "Run test suite and visualize"
   ]
  },
  {
   "cell_type": "code",
   "execution_count": null,
   "metadata": {
    "ExecuteTime": {
     "end_time": "2016-08-30T17:12:25.444980",
     "start_time": "2016-08-30T17:11:24.248544"
    },
    "collapsed": false
   },
   "outputs": [],
   "source": [
    "#set network to inference mode\n",
    "branchyNet.testing()\n",
    "branchyNet.verbose = False\n",
    "branchyNet.to_gpu()\n",
    "g_baseacc, g_basediff, _, _ = utils.test(branchyNet,x_test,y_test,main=True,batchsize=TEST_BATCHSIZE)\n",
    "g_basediff = (g_basediff / float(len(y_test))) * 1000.\n",
    "\n",
    "#branchyNet.to_cpu()\n",
    "c_baseacc, c_basediff, _, _ = utils.test(branchyNet,x_test,y_test,main=True,batchsize=TEST_BATCHSIZE)\n",
    "c_basediff = (c_basediff / float(len(y_test))) * 1000."
   ]
  },
  {
   "cell_type": "code",
   "execution_count": null,
   "metadata": {
    "ExecuteTime": {
     "end_time": "2016-08-30T17:46:39.620682",
     "start_time": "2016-08-30T17:46:39.589059"
    },
    "collapsed": true
   },
   "outputs": [],
   "source": [
    "# Specify thresholds\n",
    "thresholds = [0.0001, 0.001, 0.005, 0.01, 0.05, 0.1, 0.5, 0.75, 1., 5., 10.]"
   ]
  },
  {
   "cell_type": "code",
   "execution_count": null,
   "metadata": {
    "ExecuteTime": {
     "end_time": "2016-08-30T17:33:15.836122",
     "start_time": "2016-08-30T17:21:55.266512"
    },
    "collapsed": false
   },
   "outputs": [],
   "source": [
    "#GPU\n",
    "branchyNet.to_gpu()\n",
    "g_ts, g_accs, g_diffs, g_exits = utils.screen_branchy(branchyNet, x_test, y_test, thresholds,\n",
    "                                                    batchsize=TEST_BATCHSIZE, verbose=True)\n",
    "# g_ts, g_accs, g_diffs, g_exits = utils.screen_leaky(leakyNet, x_test, y_test, thresholds, inc_amt=-0.1,\n",
    "#                                                     batchsize=TEST_BATCHSIZE, verbose=True)\n",
    "\n",
    "#convert to ms\n",
    "g_diffs *= 1000."
   ]
  },
  {
   "cell_type": "code",
   "execution_count": null,
   "metadata": {
    "collapsed": true
   },
   "outputs": [],
   "source": [
    "visualize.plot_line_tradeoff(g_accs, g_diffs, g_ts, g_exits, g_baseacc, g_basediff, all_samples=False, inc_amt=-0.0001000,\n",
    "                             our_label='BranchyAlexNet', orig_label='AlexNet', xlabel='Runtime (ms)', \n",
    "                             title='AlexNet GPU', output_path='_figs/alexnet_gpu.pdf')"
   ]
  },
  {
   "cell_type": "code",
   "execution_count": null,
   "metadata": {
    "ExecuteTime": {
     "start_time": "2016-08-30T17:46:57.326Z"
    },
    "collapsed": false
   },
   "outputs": [],
   "source": [
    "#CPU\n",
    "branchyNet.to_cpu()\n",
    "c_ts, c_accs, c_diffs, c_exits  = utils.screen_branchy(branchyNet, x_test, y_test, thresholds,\n",
    "                                                     batchsize=TEST_BATCHSIZE, verbose=True)\n",
    "# c_ts, c_accs, c_diffs, c_exits  = utils.screen_branchy(branchyNet, x_test, y_test, g_ts, inc_amt=0.01,\n",
    "#                                                      batchsize=TEST_BATCHSIZE, prescreen=False, verbose=True)\n",
    "#convert to ms\n",
    "c_diffs *= 1000."
   ]
  },
  {
   "cell_type": "code",
   "execution_count": null,
   "metadata": {
    "ExecuteTime": {
     "end_time": "2016-08-30T17:35:52.802997",
     "start_time": "2016-08-30T17:35:52.193698"
    },
    "collapsed": false
   },
   "outputs": [],
   "source": [
    "visualize.plot_line_tradeoff(c_accs, c_diffs, c_ts, c_exits, c_baseacc, c_basediff, all_samples=False, inc_amt=-0.0001000,\n",
    "                             our_label='BranchyAlexNet', orig_label='AlexNet', xlabel='Runtime (ms)',\n",
    "                             title='AlexNet CPU', output_path='_figs/alexnet_cpu.pdf')\n"
   ]
  },
  {
   "cell_type": "code",
   "execution_count": null,
   "metadata": {
    "ExecuteTime": {
     "end_time": "2016-08-30T17:11:07.655674",
     "start_time": "2016-08-30T17:04:45.607Z"
    },
    "collapsed": false
   },
   "outputs": [],
   "source": [
    "#Compute table results\n",
    "utils.branchy_table_results(c_baseacc, c_basediff, g_basediff, c_accs, c_diffs, g_accs, g_diffs, inc_amt=0.000, \n",
    "                          network='AlexNet')"
   ]
  },
  {
   "cell_type": "markdown",
   "metadata": {},
   "source": [
    "Save model/data"
   ]
  },
  {
   "cell_type": "code",
   "execution_count": null,
   "metadata": {
    "collapsed": false
   },
   "outputs": [],
   "source": [
    "import dill\n",
    "branchyNet.to_cpu()\n",
    "with open(\"_models/alexnet_cifar10.bn\", \"w\") as f:\n",
    "    dill.dump(branchyNet, f)\n",
    "with open(\"_models/alexnet_cifar10_gpu_results.pkl\", \"w\") as f:\n",
    "    dill.dump({'accs': g_accs, 'rt': g_diffs, 'exits': g_exits, 'ts': g_ts, 'baseacc': g_baseacc, 'basediff': g_basediff}, f)\n",
    "with open(\"_models/alexnet_cifar10_cpu_results.pkl\", \"w\") as f:\n",
    "    dill.dump({'accs': c_accs, 'rt': c_diffs, 'exits': c_exits, 'ts': c_ts, 'baseacc': c_baseacc, 'basediff': c_basediff}, f)"
   ]
  }
 ],
 "metadata": {
  "kernelspec": {
   "display_name": "Python 2",
   "language": "python",
   "name": "python2"
  },
  "language_info": {
   "codemirror_mode": {
    "name": "ipython",
    "version": 2
   },
   "file_extension": ".py",
   "mimetype": "text/x-python",
   "name": "python",
   "nbconvert_exporter": "python",
   "pygments_lexer": "ipython2",
   "version": "2.7.12"
  }
 },
 "nbformat": 4,
 "nbformat_minor": 0
}
