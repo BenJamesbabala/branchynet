{
 "cells": [
  {
   "cell_type": "code",
   "execution_count": 1,
   "metadata": {
    "ExecuteTime": {
     "end_time": "2016-08-30T17:04:03.615918",
     "start_time": "2016-08-30T17:04:03.584784"
    },
    "collapsed": true
   },
   "outputs": [],
   "source": [
    "%load_ext autoreload\n",
    "%autoreload 2\n",
    "%matplotlib inline"
   ]
  },
  {
   "cell_type": "code",
   "execution_count": 2,
   "metadata": {
    "ExecuteTime": {
     "end_time": "2016-08-30T17:04:33.461371",
     "start_time": "2016-08-30T17:04:32.937702"
    },
    "collapsed": false
   },
   "outputs": [],
   "source": [
    "from branchynet.net import BranchyNet\n",
    "from branchynet.links import *\n",
    "import chainer.functions as F\n",
    "import chainer.links as L\n",
    "from branchynet import utils, visualize\n",
    "from chainer import cuda"
   ]
  },
  {
   "cell_type": "markdown",
   "metadata": {},
   "source": [
    "Define Network"
   ]
  },
  {
   "cell_type": "code",
   "execution_count": 3,
   "metadata": {
    "ExecuteTime": {
     "end_time": "2016-08-30T17:04:34.233898",
     "start_time": "2016-08-30T17:04:33.821360"
    },
    "collapsed": false
   },
   "outputs": [],
   "source": [
    "from networks import alex_cifar10\n",
    "\n",
    "branchyNet = alex_cifar10.get_network()\n",
    "branchyNet.to_gpu()\n",
    "branchyNet.training()"
   ]
  },
  {
   "cell_type": "markdown",
   "metadata": {},
   "source": [
    "Import Data"
   ]
  },
  {
   "cell_type": "code",
   "execution_count": 4,
   "metadata": {
    "ExecuteTime": {
     "end_time": "2016-08-30T17:04:36.742391",
     "start_time": "2016-08-30T17:04:34.847265"
    },
    "collapsed": false
   },
   "outputs": [],
   "source": [
    "from datasets import mnist, pcifar10\n",
    "x_train, y_train, x_test, y_test = pcifar10.get_data()"
   ]
  },
  {
   "cell_type": "markdown",
   "metadata": {},
   "source": [
    "Settings"
   ]
  },
  {
   "cell_type": "code",
   "execution_count": 5,
   "metadata": {
    "ExecuteTime": {
     "end_time": "2016-08-30T17:04:36.762787",
     "start_time": "2016-08-30T17:04:36.743275"
    },
    "collapsed": false
   },
   "outputs": [],
   "source": [
    "TRAIN_BATCHSIZE = 512\n",
    "TEST_BATCHSIZE = 1\n",
    "TRAIN_NUM_EPOCHS = 50"
   ]
  },
  {
   "cell_type": "markdown",
   "metadata": {},
   "source": [
    "Train Main Network"
   ]
  },
  {
   "cell_type": "code",
   "execution_count": null,
   "metadata": {
    "ExecuteTime": {
     "end_time": "2016-08-30T17:06:01.258431",
     "start_time": "2016-08-30T17:04:36.830718"
    },
    "collapsed": false
   },
   "outputs": [],
   "source": [
    "main_loss, main_acc, main_time = utils.train(branchyNet, x_train, y_train, main=True, batchsize=TRAIN_BATCHSIZE,\n",
    "                                             num_epoch=TRAIN_NUM_EPOCHS)"
   ]
  },
  {
   "cell_type": "markdown",
   "metadata": {},
   "source": [
    "Train BranchyNet"
   ]
  },
  {
   "cell_type": "code",
   "execution_count": null,
   "metadata": {
    "ExecuteTime": {
     "end_time": "2016-08-30T17:11:06.345265",
     "start_time": "2016-08-30T17:06:01.268848"
    },
    "collapsed": false,
    "scrolled": false
   },
   "outputs": [],
   "source": [
    "TRAIN_NUM_EPOCHS = 100\n",
    "branch_loss, branch_acc, branch_time = utils.train(branchyNet, x_train, y_train, batchsize=TRAIN_BATCHSIZE,\n",
    "                                                   num_epoch=TRAIN_NUM_EPOCHS)\n",
    "\n",
    "#set network to inference mode\n",
    "branchyNet.testing()"
   ]
  },
  {
   "cell_type": "markdown",
   "metadata": {},
   "source": [
    "Visualizing Network Training"
   ]
  },
  {
   "cell_type": "code",
   "execution_count": null,
   "metadata": {
    "ExecuteTime": {
     "end_time": "2016-08-30T17:11:06.835335",
     "start_time": "2016-08-30T17:11:06.348432"
    },
    "collapsed": false
   },
   "outputs": [],
   "source": [
    "visualize.plot_layers(main_loss, xlabel='Epochs', ylabel='Training Loss')\n",
    "visualize.plot_layers(main_acc, xlabel='Epochs', ylabel='Training Accuracy')"
   ]
  },
  {
   "cell_type": "code",
   "execution_count": null,
   "metadata": {
    "ExecuteTime": {
     "end_time": "2016-08-30T17:11:07.341112",
     "start_time": "2016-08-30T17:11:06.837397"
    },
    "collapsed": false
   },
   "outputs": [],
   "source": [
    "visualize.plot_layers(zip(*branch_loss), xlabel='Epochs', ylabel='Training Loss')\n",
    "visualize.plot_layers(zip(*branch_acc), xlabel='Epochs', ylabel='Training Accuracy')"
   ]
  },
  {
   "cell_type": "markdown",
   "metadata": {},
   "source": [
    "Get exit result, compute openmax vs softmax"
   ]
  },
  {
   "cell_type": "code",
   "execution_count": 11,
   "metadata": {
    "collapsed": false,
    "scrolled": false
   },
   "outputs": [
    {
     "ename": "NameError",
     "evalue": "name 'sp' is not defined",
     "output_type": "error",
     "traceback": [
      "\u001b[0;31m\u001b[0m",
      "\u001b[0;31mNameError\u001b[0mTraceback (most recent call last)",
      "\u001b[0;32m<ipython-input-11-a5fabc31a260>\u001b[0m in \u001b[0;36m<module>\u001b[0;34m()\u001b[0m\n\u001b[1;32m      5\u001b[0m \u001b[0;34m\u001b[0m\u001b[0m\n\u001b[1;32m      6\u001b[0m \u001b[0;32mfor\u001b[0m \u001b[0mi\u001b[0m\u001b[0;34m,\u001b[0m \u001b[0mmodel\u001b[0m \u001b[0;32min\u001b[0m \u001b[0menumerate\u001b[0m\u001b[0;34m(\u001b[0m\u001b[0mbranchyNet\u001b[0m\u001b[0;34m.\u001b[0m\u001b[0mmodels\u001b[0m\u001b[0;34m)\u001b[0m\u001b[0;34m:\u001b[0m\u001b[0;34m\u001b[0m\u001b[0m\n\u001b[0;32m----> 7\u001b[0;31m     \u001b[0mfeatures_train\u001b[0m \u001b[0;34m=\u001b[0m \u001b[0msp\u001b[0m\u001b[0;34m.\u001b[0m\u001b[0mexpand_dims\u001b[0m\u001b[0;34m(\u001b[0m\u001b[0mmodel\u001b[0m\u001b[0;34m.\u001b[0m\u001b[0mtest\u001b[0m\u001b[0;34m(\u001b[0m\u001b[0mx_train\u001b[0m\u001b[0;34m)\u001b[0m\u001b[0;34m.\u001b[0m\u001b[0mdata\u001b[0m\u001b[0;34m,\u001b[0m\u001b[0;36m1\u001b[0m\u001b[0;34m)\u001b[0m\u001b[0;34m\u001b[0m\u001b[0m\n\u001b[0m\u001b[1;32m      8\u001b[0m     \u001b[0mfeatures_test\u001b[0m \u001b[0;34m=\u001b[0m \u001b[0msp\u001b[0m\u001b[0;34m.\u001b[0m\u001b[0mexpand_dims\u001b[0m\u001b[0;34m(\u001b[0m\u001b[0mmodel\u001b[0m\u001b[0;34m.\u001b[0m\u001b[0mtest\u001b[0m\u001b[0;34m(\u001b[0m\u001b[0mx_test\u001b[0m\u001b[0;34m)\u001b[0m\u001b[0;34m.\u001b[0m\u001b[0mdata\u001b[0m\u001b[0;34m,\u001b[0m\u001b[0;36m1\u001b[0m\u001b[0;34m)\u001b[0m\u001b[0;34m\u001b[0m\u001b[0m\n\u001b[1;32m      9\u001b[0m \u001b[0;34m\u001b[0m\u001b[0m\n",
      "\u001b[0;31mNameError\u001b[0m: name 'sp' is not defined"
     ]
    }
   ],
   "source": [
    "import scipy as sp\n",
    "\n",
    "branchyNet.testing()\n",
    "branchyNet.to_cpu()\n",
    "\n",
    "from openmax.openmax import OpenMax, get_openmax_scores, plot_openmax_mean\n",
    "\n",
    "for i, model in enumerate(branchyNet.models):\n",
    "    features_train = sp.expand_dims(model.test(x_train).data,1)\n",
    "    features_test = sp.expand_dims(model.test(x_test).data,1)\n",
    "    \n",
    "    openmax = OpenMax()\n",
    "    openmax.fit(features_train)\n",
    "\n",
    "    openmax_vs_train, softmax_vs_train = get_openmax_scores(features_train, openmax)\n",
    "    openmax_vs_test, softmax_vs_test = get_openmax_scores(features_test, openmax)\n",
    "    \n",
    "    plot_openmax_mean(openmax_vs_train, softmax_vs_train, title='Exit {} Train'.format(i))\n",
    "    plot_openmax_mean(openmax_vs_test, softmax_vs_test, title='Exit {} Test'.format(i))"
   ]
  },
  {
   "cell_type": "code",
   "execution_count": null,
   "metadata": {
    "collapsed": true
   },
   "outputs": [],
   "source": []
  }
 ],
 "metadata": {
  "anaconda-cloud": {},
  "kernelspec": {
   "display_name": "Python 2",
   "language": "python",
   "name": "python2"
  },
  "language_info": {
   "codemirror_mode": {
    "name": "ipython",
    "version": 2
   },
   "file_extension": ".py",
   "mimetype": "text/x-python",
   "name": "python",
   "nbconvert_exporter": "python",
   "pygments_lexer": "ipython2",
   "version": "2.7.12"
  }
 },
 "nbformat": 4,
 "nbformat_minor": 0
}
